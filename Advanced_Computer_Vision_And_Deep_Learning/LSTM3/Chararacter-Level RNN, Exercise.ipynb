{
 "cells": [
  {
   "cell_type": "markdown",
   "metadata": {},
   "source": [
    "# Character-Level LSTM in PyTorch\n",
    "\n",
    "In this notebook, I'll construct a character-level LSTM with PyTorch. The network will train character by character on some text, then generate new text character by character. As an example, I will train on Anna Karenina. **This model will be able to generate new text based on the text from the book!**\n",
    "\n",
    "This network is based off of Andrej Karpathy's [post on RNNs](http://karpathy.github.io/2015/05/21/rnn-effectiveness/) and [implementation in Torch](https://github.com/karpathy/char-rnn). Below is the general architecture of the character-wise RNN.\n",
    "\n",
    "<img src=\"assets/charseq.jpeg\" width=\"500\">"
   ]
  },
  {
   "cell_type": "markdown",
   "metadata": {},
   "source": [
    "First let's load in our required resources for data loading and model creation."
   ]
  },
  {
   "cell_type": "code",
   "execution_count": 1,
   "metadata": {},
   "outputs": [],
   "source": [
    "import numpy as np\n",
    "import torch\n",
    "from torch import nn\n",
    "import torch.nn.functional as F\n"
   ]
  },
  {
   "cell_type": "markdown",
   "metadata": {},
   "source": [
    "## Load in Data\n",
    "\n",
    "Then, we'll load the Anna Karenina text file and convert it into integers for our network to use. \n",
    "\n",
    "### Tokenization\n",
    "\n",
    "In the second cell, below, I'm creating a couple **dictionaries** to convert the characters to and from integers. Encoding the characters as integers makes it easier to use as input in the network."
   ]
  },
  {
   "cell_type": "code",
   "execution_count": 2,
   "metadata": {},
   "outputs": [],
   "source": [
    "# open text file and read in data as `text`\n",
    "with open('data/anna.txt', 'r') as f:\n",
    "    text = f.read()"
   ]
  },
  {
   "cell_type": "markdown",
   "metadata": {},
   "source": [
    "Now we have the text, encode it as integers."
   ]
  },
  {
   "cell_type": "code",
   "execution_count": 3,
   "metadata": {},
   "outputs": [],
   "source": [
    "# encode the text and map each character to an integer and vice versa\n",
    "\n",
    "# we create two dictonaries:\n",
    "# 1. int2char, which maps integers to characters\n",
    "# 2. char2int, which maps characters to unique integers\n",
    "chars = tuple(set(text))\n",
    "int2char = dict(enumerate(chars))\n",
    "char2int = {ch: ii for ii, ch in int2char.items()}\n",
    "encoded = np.array([char2int[ch] for ch in text])"
   ]
  },
  {
   "cell_type": "code",
   "execution_count": 4,
   "metadata": {},
   "outputs": [
    {
     "data": {
      "text/plain": [
       "83"
      ]
     },
     "execution_count": 4,
     "metadata": {},
     "output_type": "execute_result"
    }
   ],
   "source": [
    "len(chars)"
   ]
  },
  {
   "cell_type": "markdown",
   "metadata": {},
   "source": [
    "Let's check out the first 100 characters, make sure everything is peachy. According to the [American Book Review](http://americanbookreview.org/100bestlines.asp), this is the 6th best first line of a book ever."
   ]
  },
  {
   "cell_type": "code",
   "execution_count": 5,
   "metadata": {},
   "outputs": [
    {
     "data": {
      "text/plain": [
       "'Chapter 1\\n\\n\\nHappy families are all alike; every unhappy family is unhappy in its own\\nway.\\n\\nEverythin'"
      ]
     },
     "execution_count": 5,
     "metadata": {},
     "output_type": "execute_result"
    }
   ],
   "source": [
    "text[:100]"
   ]
  },
  {
   "cell_type": "markdown",
   "metadata": {},
   "source": [
    "And we can see those same characters encoded as integers."
   ]
  },
  {
   "cell_type": "code",
   "execution_count": 6,
   "metadata": {},
   "outputs": [
    {
     "data": {
      "text/plain": [
       "{'q': 0,\n",
       " '?': 1,\n",
       " 'V': 2,\n",
       " 'Y': 3,\n",
       " 'g': 4,\n",
       " '4': 5,\n",
       " 'n': 6,\n",
       " ' ': 7,\n",
       " 'p': 8,\n",
       " 't': 9,\n",
       " '6': 10,\n",
       " '7': 11,\n",
       " 'i': 12,\n",
       " '&': 13,\n",
       " '5': 14,\n",
       " 'c': 15,\n",
       " 'j': 16,\n",
       " ':': 17,\n",
       " '!': 18,\n",
       " '$': 19,\n",
       " \"'\": 20,\n",
       " '-': 21,\n",
       " ',': 22,\n",
       " 'v': 23,\n",
       " '%': 24,\n",
       " ')': 25,\n",
       " '2': 26,\n",
       " 'e': 27,\n",
       " 'k': 28,\n",
       " '3': 29,\n",
       " 'G': 30,\n",
       " 'u': 31,\n",
       " 'a': 32,\n",
       " 'X': 33,\n",
       " 'E': 34,\n",
       " 'l': 35,\n",
       " 'U': 36,\n",
       " 'r': 37,\n",
       " 'K': 38,\n",
       " '@': 39,\n",
       " 'z': 40,\n",
       " 's': 41,\n",
       " '_': 42,\n",
       " '*': 43,\n",
       " 'L': 44,\n",
       " 'C': 45,\n",
       " 'h': 46,\n",
       " 'O': 47,\n",
       " 'I': 48,\n",
       " ';': 49,\n",
       " 'S': 50,\n",
       " '1': 51,\n",
       " 'M': 52,\n",
       " '\"': 53,\n",
       " 'P': 54,\n",
       " 'f': 55,\n",
       " '8': 56,\n",
       " 'y': 57,\n",
       " 'd': 58,\n",
       " 'T': 59,\n",
       " 'D': 60,\n",
       " '(': 61,\n",
       " '9': 62,\n",
       " 'b': 63,\n",
       " 'o': 64,\n",
       " 'Q': 65,\n",
       " 'm': 66,\n",
       " 'B': 67,\n",
       " 'x': 68,\n",
       " 'Z': 69,\n",
       " '0': 70,\n",
       " '`': 71,\n",
       " 'W': 72,\n",
       " 'R': 73,\n",
       " 'A': 74,\n",
       " 'w': 75,\n",
       " 'N': 76,\n",
       " '/': 77,\n",
       " 'F': 78,\n",
       " '.': 79,\n",
       " '\\n': 80,\n",
       " 'J': 81,\n",
       " 'H': 82}"
      ]
     },
     "execution_count": 6,
     "metadata": {},
     "output_type": "execute_result"
    }
   ],
   "source": [
    "char2int"
   ]
  },
  {
   "cell_type": "code",
   "execution_count": 7,
   "metadata": {},
   "outputs": [
    {
     "data": {
      "text/plain": [
       "array([45, 46, 32,  8,  9, 27, 37,  7, 51, 80, 80, 80, 82, 32,  8,  8, 57,\n",
       "        7, 55, 32, 66, 12, 35, 12, 27, 41,  7, 32, 37, 27,  7, 32, 35, 35,\n",
       "        7, 32, 35, 12, 28, 27, 49,  7, 27, 23, 27, 37, 57,  7, 31,  6, 46,\n",
       "       32,  8,  8, 57,  7, 55, 32, 66, 12, 35, 57,  7, 12, 41,  7, 31,  6,\n",
       "       46, 32,  8,  8, 57,  7, 12,  6,  7, 12,  9, 41,  7, 64, 75,  6, 80,\n",
       "       75, 32, 57, 79, 80, 80, 34, 23, 27, 37, 57,  9, 46, 12,  6])"
      ]
     },
     "execution_count": 7,
     "metadata": {},
     "output_type": "execute_result"
    }
   ],
   "source": [
    "encoded[:100]"
   ]
  },
  {
   "cell_type": "code",
   "execution_count": 8,
   "metadata": {},
   "outputs": [
    {
     "data": {
      "text/plain": [
       "1985223"
      ]
     },
     "execution_count": 8,
     "metadata": {},
     "output_type": "execute_result"
    }
   ],
   "source": [
    "len(encoded)"
   ]
  },
  {
   "cell_type": "markdown",
   "metadata": {},
   "source": [
    "## Pre-processing the data\n",
    "\n",
    "As you can see in our char-RNN image above, our LSTM expects an input that is **one-hot encoded** meaning that each character is converted into an intgere (via our created dictionary) and *then* converted into a column vector where only it's corresponsing integer index will have the value of 1 and the rest of the vector will be filled with 0's. Since we're one-hot encoding the data, let's make a function to do that!\n"
   ]
  },
  {
   "cell_type": "code",
   "execution_count": 9,
   "metadata": {},
   "outputs": [],
   "source": [
    "def one_hot_encode(arr, n_labels):\n",
    "    \n",
    "    # Initialize the the encoded array\n",
    "    one_hot = np.zeros((np.multiply(*arr.shape), n_labels), dtype=np.float32)\n",
    "    \n",
    "    # Fill the appropriate elements with ones\n",
    "    one_hot[np.arange(one_hot.shape[0]), arr.flatten()] = 1.\n",
    "    \n",
    "    # Finally reshape it to get back to the original array\n",
    "    one_hot = one_hot.reshape((*arr.shape, n_labels))\n",
    "    \n",
    "    return one_hot"
   ]
  },
  {
   "cell_type": "markdown",
   "metadata": {},
   "source": [
    "## Making training mini-batches\n",
    "\n",
    "\n",
    "To train on this data, we also want to create mini-batches for training. Remember that we want our batches to be multiple sequences of some desired number of sequence steps. Considering a simple example, our batches would look like this:\n",
    "\n",
    "<img src=\"assets/sequence_batching@1x.png\" width=500px>\n",
    "\n",
    "\n",
    "<br>\n",
    "\n",
    "In this example, we'll take the encoded characters (passed in as the `arr` parameter) and split them into multiple sequences, given by `n_seqs` (also refered to as \"batch size\" in other places). Each of those sequences will be `n_steps` long.\n",
    "\n",
    "### Creating Batches\n",
    "\n",
    "**1. The first thing we need to do is discard some of the text so we only have completely full batches. **\n",
    "\n",
    "Each batch contains $N \\times M$ characters, where $N$ is the batch size (the number of sequences) and $M$ is the number of steps. Then, to get the total number of batches, $K$, we can make from the array `arr`, you divide the length of `arr` by the number of characters per batch. Once you know the number of batches, you can get the total number of characters to keep from `arr`, $N * M * K$.\n",
    "\n",
    "**2. After that, we need to split `arr` into $N$ sequences. ** \n",
    "\n",
    "You can do this using `arr.reshape(size)` where `size` is a tuple containing the dimensions sizes of the reshaped array. We know we want $N$ sequences, so let's make that the size of the first dimension. For the second dimension, you can use `-1` as a placeholder in the size, it'll fill up the array with the appropriate data for you. After this, you should have an array that is $N \\times (M * K)$.\n",
    "\n",
    "**3. Now that we have this array, we can iterate through it to get our batches. **\n",
    "\n",
    "The idea is each batch is a $N \\times M$ window on the $N \\times (M * K)$ array. For each subsequent batch, the window moves over by `n_steps`. We also want to create both the input and target arrays. Remember that the targets are the inputs shifted over one character. The way I like to do this window is use `range` to take steps of size `n_steps` from $0$ to `arr.shape[1]`, the total number of steps in each sequence. That way, the integers you get from `range` always point to the start of a batch, and each window is `n_steps` wide.\n",
    "\n",
    "> **TODO:** Write the code for creating batches in the function below. The exercises in this notebook _will not be easy_. I've provided a notebook with solutions alongside this notebook. If you get stuck, checkout the solutions. The most important thing is that you don't copy and paste the code into here, **type out the solution code yourself.**"
   ]
  },
  {
   "cell_type": "code",
   "execution_count": 10,
   "metadata": {},
   "outputs": [],
   "source": [
    "def get_batches(arr, n_seqs, n_steps):\n",
    "    '''Create a generator that returns batches of size\n",
    "       n_seqs x n_steps from arr.\n",
    "       \n",
    "       Arguments\n",
    "       ---------\n",
    "       arr: Array you want to make batches from\n",
    "       n_seqs: Batch size, the number of sequences per batch\n",
    "       n_steps: Number of sequence steps per batch\n",
    "    '''\n",
    "    \n",
    "    # Get the number of characters per batch\n",
    "    batch_size = n_seqs * n_steps\n",
    "    #print(f\"batch_size = {batch_size}\")\n",
    "    \n",
    "    ## TODO: Get the number of batches we can make\n",
    "    n_batches = len(arr)//batch_size\n",
    "    #print(f\"n_batches = {n_batches}\")\n",
    "    #print(f\"len(arr) = {len(arr)}\")\n",
    "    \n",
    "    ## TODO: Keep only enough characters to make full batches\n",
    "    arr = arr[0:n_batches*batch_size]\n",
    "    #print(f\"n_batches*batch_size = {n_batches*batch_size}\")\n",
    "    \n",
    "    ## TODO: Reshape into batch_size rows\n",
    "    arr = arr.reshape(n_seqs, -1)\n",
    "    \n",
    "    ## TODO: Make batches\n",
    "    for n in range(0, arr.shape[1], n_steps):\n",
    "        # The features\n",
    "        x = arr[:, n:n+n_steps]\n",
    "        y = np.zeros(x.shape, dtype=int)\n",
    "        \n",
    "        # The targets, shifted by one\n",
    "        if n+n_steps > arr.shape[1]-1:\n",
    "            y[:, :-1], y[:, -1] = x[:, 1:n_steps], arr[:, 0]\n",
    "        else:\n",
    "            y[:, :-1], y[:, -1] = x[:, 1:n_steps], arr[:, n+n_steps]\n",
    "                \n",
    "        #y = arr[:, n+1:n+n_steps+1]\n",
    "        yield x, y\n"
   ]
  },
  {
   "cell_type": "markdown",
   "metadata": {},
   "source": [
    "### Test Your Implementation\n",
    "\n",
    "Now I'll make some data sets and we can check out what's going on as we batch data. Here, as an example, I'm going to use a batch size of 10 and 50 sequence steps."
   ]
  },
  {
   "cell_type": "code",
   "execution_count": 11,
   "metadata": {},
   "outputs": [
    {
     "name": "stdout",
     "output_type": "stream",
     "text": [
      "np.shape(x) = (10, 50)\n",
      "np.shape(y) = (10, 50)\n"
     ]
    }
   ],
   "source": [
    "batches = get_batches(encoded, 10, 50)\n",
    "x, y = next(batches)\n",
    "print(f\"np.shape(x) = {np.shape(x)}\")\n",
    "print(f\"np.shape(y) = {np.shape(y)}\")"
   ]
  },
  {
   "cell_type": "code",
   "execution_count": 12,
   "metadata": {},
   "outputs": [
    {
     "name": "stdout",
     "output_type": "stream",
     "text": [
      "x\n",
      " [[80 80 82 32  8  8 57  7 55 32]\n",
      " [12  6  4  7  9 64  7 41  9 32]\n",
      " [22  7 12  9 20 41  7 41 27  9]\n",
      " [12 41  7 15 64  6 23 27 37 41]\n",
      " [37 18 53  7 41 32 12 58  7  9]\n",
      " [35 57  7 75 46 27  6  7  9 46]\n",
      " [64 37  7 66 27 22 53  7 41 46]\n",
      " [41 46 27  7 75 64 31 35 58  7]\n",
      " [46 27 57 20 37 27  7  8 37 64]\n",
      " [27 37 41 27 35 55 22  7 32  6]]\n",
      "\n",
      "y\n",
      " [[80 82 32  8  8 57  7 55 32 66]\n",
      " [ 6  4  7  9 64  7 41  9 32 57]\n",
      " [ 7 12  9 20 41  7 41 27  9  9]\n",
      " [41  7 15 64  6 23 27 37 41 32]\n",
      " [18 53  7 41 32 12 58  7  9 46]\n",
      " [57  7 75 46 27  6  7  9 46 27]\n",
      " [37  7 66 27 22 53  7 41 46 27]\n",
      " [46 27  7 75 64 31 35 58  7 37]\n",
      " [27 57 20 37 27  7  8 37 64  8]\n",
      " [37 41 27 35 55 22  7 32  6 58]]\n"
     ]
    }
   ],
   "source": [
    "print('x\\n', x[:, 10:20])\n",
    "print('\\ny\\n', y[:, 10:20])"
   ]
  },
  {
   "cell_type": "code",
   "execution_count": 13,
   "metadata": {},
   "outputs": [
    {
     "name": "stdout",
     "output_type": "stream",
     "text": [
      "x\n",
      " [[45 46 32  8  9 27 37  7 51 80]\n",
      " [ 7 32 66  7  6 64  9  7  4 64]\n",
      " [23 12  6 79 80 80 53  3 27 41]\n",
      " [ 6  7 58 31 37 12  6  4  7 46]\n",
      " [ 7 12  9  7 12 41 22  7 41 12]\n",
      " [ 7 48  9  7 75 32 41 80 64  6]\n",
      " [46 27  6  7 15 64 66 27  7 55]\n",
      " [49  7 63 31  9  7  6 64 75  7]\n",
      " [ 9  7 12 41  6 20  9 79  7 59]\n",
      " [ 7 41 32 12 58  7  9 64  7 46]]\n",
      "\n",
      "y\n",
      " [[46 32  8  9 27 37  7 51 80 80]\n",
      " [32 66  7  6 64  9  7  4 64 12]\n",
      " [12  6 79 80 80 53  3 27 41 22]\n",
      " [ 7 58 31 37 12  6  4  7 46 12]\n",
      " [12  9  7 12 41 22  7 41 12 37]\n",
      " [48  9  7 75 32 41 80 64  6 35]\n",
      " [27  6  7 15 64 66 27  7 55 64]\n",
      " [ 7 63 31  9  7  6 64 75  7 41]\n",
      " [ 7 12 41  6 20  9 79  7 59 46]\n",
      " [41 32 12 58  7  9 64  7 46 27]]\n"
     ]
    }
   ],
   "source": [
    "print('x\\n', x[:10, :10])\n",
    "print('\\ny\\n', y[:10, :10])"
   ]
  },
  {
   "cell_type": "markdown",
   "metadata": {},
   "source": [
    "If you implemented `get_batches` correctly, the above output should look something like \n",
    "```\n",
    "x\n",
    " [[55 63 69 22  6 76 45  5 16 35]\n",
    " [ 5 69  1  5 12 52  6  5 56 52]\n",
    " [48 29 12 61 35 35  8 64 76 78]\n",
    " [12  5 24 39 45 29 12 56  5 63]\n",
    " [ 5 29  6  5 29 78 28  5 78 29]\n",
    " [ 5 13  6  5 36 69 78 35 52 12]\n",
    " [63 76 12  5 18 52  1 76  5 58]\n",
    " [34  5 73 39  6  5 12 52 36  5]\n",
    " [ 6  5 29 78 12 79  6 61  5 59]\n",
    " [ 5 78 69 29 24  5  6 52  5 63]]\n",
    "\n",
    "y\n",
    " [[63 69 22  6 76 45  5 16 35 35]\n",
    " [69  1  5 12 52  6  5 56 52 29]\n",
    " [29 12 61 35 35  8 64 76 78 28]\n",
    " [ 5 24 39 45 29 12 56  5 63 29]\n",
    " [29  6  5 29 78 28  5 78 29 45]\n",
    " [13  6  5 36 69 78 35 52 12 43]\n",
    " [76 12  5 18 52  1 76  5 58 52]\n",
    " [ 5 73 39  6  5 12 52 36  5 78]\n",
    " [ 5 29 78 12 79  6 61  5 59 63]\n",
    " [78 69 29 24  5  6 52  5 63 76]]\n",
    " ```\n",
    " although the exact numbers will be different. Check to make sure the data is shifted over one step for `y`."
   ]
  },
  {
   "cell_type": "markdown",
   "metadata": {},
   "source": [
    "---\n",
    "## Defining the network with PyTorch\n",
    "\n",
    "Below is where you'll define the network. We'll break it up into parts so it's easier to reason about each bit. Then we can connect them up into the whole network.\n",
    "\n",
    "<img src=\"assets/charRNN.png\" width=500px>\n",
    "\n",
    "Next, you'll use PyTorch to define the architecture of the network. We start by defining the layers and operations we want. Then, define a method for the forward pass. You've also been given a method for predicting characters."
   ]
  },
  {
   "cell_type": "markdown",
   "metadata": {},
   "source": [
    "### Model Structure\n",
    "\n",
    "In `__init__` the suggested structure is as follows:\n",
    "* Create and store the necessary dictionaries (this has been done for you)\n",
    "* Define an LSTM layer that takes as params: an input size (the number of characters), a hidden layer size `n_hidden`, a number of layers `n_layers`, a dropout probability `drop_prob`, and a batch_first boolean (True, since we are batching)\n",
    "* Define a dropout layer with `dropout_prob`\n",
    "* Define a fully-connected layer with params: input size `n_hidden` and output size (the number of characters)\n",
    "* Finally, initialize the weights (again, this has been given)\n",
    "\n",
    "Note that some parameters have been named and given in the `__init__` function, and we use them and store them by doing something like `self.drop_prob = drop_prob`."
   ]
  },
  {
   "cell_type": "markdown",
   "metadata": {},
   "source": [
    "---\n",
    "### LSTM Inputs/Outputs\n",
    "\n",
    "You can create a basic LSTM cell as follows\n",
    "\n",
    "```python\n",
    "self.lstm = nn.LSTM(input_size, n_hidden, n_layers, \n",
    "                            dropout=drop_prob, batch_first=True)\n",
    "```\n",
    "\n",
    "where `input_size` is the number of characters this cell expects to see as sequential input, and `n_hidden` is the number of units in the hidden layers in the cell. And we can add dropout by adding a dropout parameter with a specified probability; this will automatically add dropout to the inputs or outputs. Finally, in the `forward` function, we can stack up the LSTM cells into layers using `.view`. With this, you pass in a list of cells and it will send the output of one cell into the next cell.\n",
    "\n",
    "We also need to create an initial cell state of all zeros. This is done like so\n",
    "\n",
    "```python\n",
    "self.init_weights()\n",
    "```"
   ]
  },
  {
   "cell_type": "code",
   "execution_count": 14,
   "metadata": {},
   "outputs": [],
   "source": [
    "class CharRNN(nn.Module):\n",
    "    \n",
    "    def __init__(self, tokens, n_steps=100, n_hidden=256, n_layers=2,\n",
    "                               drop_prob=0.5, lr=0.001):\n",
    "        super().__init__()\n",
    "        self.drop_prob = drop_prob\n",
    "        self.n_layers = n_layers\n",
    "        self.n_hidden = n_hidden\n",
    "        self.lr = lr\n",
    "        \n",
    "        # creating character dictionaries\n",
    "        self.chars = tokens\n",
    "        self.int2char = dict(enumerate(self.chars))\n",
    "        self.char2int = {ch: ii for ii, ch in self.int2char.items()}\n",
    "        \n",
    "        ## TODO: define the LSTM, self.lstm\n",
    "        self.lstm = nn.LSTM(input_size=len(self.chars), hidden_size=n_hidden, num_layers=n_layers, \n",
    "                            dropout=drop_prob, batch_first=True)\n",
    "        \n",
    "        ## TODO: define a dropout layer, self.dropout\n",
    "        self.dropout = nn.Dropout(p=drop_prob)\n",
    "        \n",
    "        ## TODO: define the final, fully-connected output layer, self.fc\n",
    "        self.fc = nn.Linear(n_hidden, len(self.chars))\n",
    "        \n",
    "        # initialize the weights\n",
    "        self.init_weights()\n",
    "      \n",
    "    \n",
    "    def forward(self, x, hc):\n",
    "        ''' Forward pass through the network. \n",
    "            These inputs are x, and the hidden/cell state `hc`. '''\n",
    "        \n",
    "        ## TODO: Get x, and the new hidden state (h, c) from the lstm\n",
    "        x, (h, c) = self.lstm(x, hc)\n",
    "        \n",
    "        ## TODO: pass x through a droupout layer\n",
    "        x = self.dropout(x)\n",
    "        \n",
    "        # Stack up LSTM outputs using view\n",
    "        #print(f\"x.size() = {x.size()}\")\n",
    "        #print(f\"self.n_hidden = {self.n_hidden}\")\n",
    "        x = x.reshape(x.size()[0]*x.size()[1], self.n_hidden)\n",
    "        #print(f\"===> x.size() = {x.size()}\")\n",
    "        \n",
    "        ## TODO: put x through the fully-connected layer\n",
    "        x = self.fc(x)\n",
    "        \n",
    "        # return x and the hidden state (h, c)\n",
    "        return x, (h, c)\n",
    "    \n",
    "    \n",
    "    def predict(self, char, h=None, cuda=False, top_k=None):\n",
    "        ''' Given a character, predict the next character.\n",
    "        \n",
    "            Returns the predicted character and the hidden state.\n",
    "        '''\n",
    "        if cuda:\n",
    "            self.cuda()\n",
    "        else:\n",
    "            self.cpu()\n",
    "        \n",
    "        if h is None:\n",
    "            h = self.init_hidden(1)\n",
    "        \n",
    "        x = np.array([[self.char2int[char]]])\n",
    "        #print(f\"before one_hot_encode, x.shape = {x.shape}\")\n",
    "        x = one_hot_encode(x, len(self.chars))\n",
    "        #print(f\"after one_hot_encode, x.shape = {x.shape}\")\n",
    "        inputs = torch.from_numpy(x)\n",
    "        if cuda:\n",
    "            inputs = inputs.cuda()\n",
    "        \n",
    "        #h = tuple([each.detach() for each in h])\n",
    "        h = tuple([each.data for each in h])\n",
    "        out, h = self.forward(inputs, h)\n",
    "\n",
    "        p = F.softmax(out, dim=1).data\n",
    "        if cuda:\n",
    "            p = p.cpu()\n",
    "        \n",
    "        if top_k is None:\n",
    "            top_ch = np.arange(len(self.chars))\n",
    "        else:\n",
    "            p, top_ch = p.topk(top_k)\n",
    "            top_ch = top_ch.numpy().squeeze()\n",
    "        \n",
    "        p = p.numpy().squeeze()\n",
    "        char = np.random.choice(top_ch, p=p/p.sum())\n",
    "            \n",
    "        return self.int2char[char], h\n",
    "    \n",
    "    def init_weights(self):\n",
    "        ''' Initialize weights for fully connected layer '''\n",
    "        initrange = 0.1\n",
    "        \n",
    "        # Set bias tensor to all zeros\n",
    "        self.fc.bias.data.fill_(0)\n",
    "        # FC weights as random uniform\n",
    "        self.fc.weight.data.uniform_(-1, 1)\n",
    "        \n",
    "    def init_hidden(self, n_seqs):\n",
    "        ''' Initializes hidden state '''\n",
    "        # Create two new tensors with sizes n_layers x n_seqs x n_hidden,\n",
    "        # initialized to zero, for hidden state and cell state of LSTM\n",
    "        weight = next(self.parameters()).data\n",
    "        return (weight.new(self.n_layers, n_seqs, self.n_hidden).zero_(),\n",
    "                weight.new(self.n_layers, n_seqs, self.n_hidden).zero_())\n",
    "        "
   ]
  },
  {
   "cell_type": "markdown",
   "metadata": {},
   "source": [
    "### A note on the `predict`  function\n",
    "\n",
    "The output of our RNN is from a fully-connected layer and it outputs a **distribution of next-character scores**.\n",
    "\n",
    "To actually get the next character, we apply a softmax function, which gives us a *probability* distribution that we can then sample to predict the next character."
   ]
  },
  {
   "cell_type": "code",
   "execution_count": 15,
   "metadata": {},
   "outputs": [],
   "source": [
    "## ---- keep notebook from crashing during training --- ##\n",
    "import os\n",
    "import requests\n",
    "import time\n",
    "\n",
    "def train(net, data, epochs=10, n_seqs=10, n_steps=50, lr=0.001, clip=5, val_frac=0.1, cuda=False, print_every=10, response=None):\n",
    "    ''' Training a network \n",
    "    \n",
    "        Arguments\n",
    "        ---------\n",
    "        \n",
    "        net: CharRNN network\n",
    "        data: text data to train the network\n",
    "        epochs: Number of epochs to train\n",
    "        n_seqs: Number of mini-sequences per mini-batch, aka batch size\n",
    "        n_steps: Number of character steps per mini-batch\n",
    "        lr: learning rate\n",
    "        clip: gradient clipping\n",
    "        val_frac: Fraction of data to hold out for validation\n",
    "        cuda: Train with CUDA on a GPU\n",
    "        print_every: Number of steps for printing training and validation loss\n",
    "    \n",
    "    '''\n",
    "    \n",
    "    net.train()\n",
    "    opt = torch.optim.Adam(net.parameters(), lr=lr)\n",
    "    criterion = nn.CrossEntropyLoss()\n",
    "    \n",
    "    # create training and validation data\n",
    "    val_idx = int(len(data)*(1-val_frac))\n",
    "    data, val_data = data[:val_idx], data[val_idx:]\n",
    "    \n",
    "    if cuda:\n",
    "        net.cuda()\n",
    "    \n",
    "    counter = 0\n",
    "    n_chars = len(net.chars)\n",
    "    \n",
    "    old_time = time.time()\n",
    "\n",
    "    for e in range(epochs):\n",
    "        h = net.init_hidden(n_seqs)\n",
    "        for x, y in get_batches(data, n_seqs, n_steps):\n",
    "            \n",
    "            if time.time() - old_time > 60:\n",
    "                old_time = time.time()\n",
    "                #requests.request(\"POST\", \n",
    "                #                 \"https://nebula.udacity.com/api/v1/remote/keep-alive\", \n",
    "                #                 headers={'Authorization': \"STAR \" + response.text})\n",
    "                #KEEPALIVE_URL = \"https://nebula.udacity.com/api/v1/remote/keep-alive\"\n",
    "                #headers = {'Authorization': \"STAR \" + response.text}\n",
    "                #requests.request(\"POST\", KEEPALIVE_URL, headers=headers)\n",
    "            \n",
    "            counter += 1\n",
    "            \n",
    "            # One-hot encode our data and make them Torch tensors\n",
    "            x = one_hot_encode(x, n_chars)\n",
    "            #print(f\"np.shape(x) = {np.shape(x)}\")\n",
    "            inputs, targets = torch.from_numpy(x), torch.from_numpy(y)\n",
    "            \n",
    "            if cuda:\n",
    "                inputs, targets = inputs.cuda(), targets.cuda()\n",
    "\n",
    "            # Creating new variables for the hidden state, otherwise\n",
    "            # we'd backprop through the entire training history\n",
    "            h = tuple([each.data for each in h])\n",
    "\n",
    "            net.zero_grad()\n",
    "            \n",
    "            output, h = net.forward(inputs, h)\n",
    "            #print(f\"np.shape(output) = {np.shape(output)}\")\n",
    "            loss = criterion(output, targets.view(n_seqs*n_steps))\n",
    "\n",
    "            loss.backward()\n",
    "            \n",
    "            # `clip_grad_norm` helps prevent the exploding gradient problem in RNNs / LSTMs.\n",
    "            nn.utils.clip_grad_norm_(net.parameters(), clip)\n",
    "\n",
    "            opt.step()\n",
    "            \n",
    "            if counter % print_every == 0:\n",
    "                \n",
    "                # Get validation loss\n",
    "                val_h = net.init_hidden(n_seqs)\n",
    "                val_losses = []\n",
    "                for x, y in get_batches(val_data, n_seqs, n_steps):\n",
    "                    # One-hot encode our data and make them Torch tensors\n",
    "                    x = one_hot_encode(x, n_chars)\n",
    "                    x, y = torch.from_numpy(x), torch.from_numpy(y)\n",
    "                    \n",
    "                    # Creating new variables for the hidden state, otherwise\n",
    "                    # we'd backprop through the entire training history\n",
    "                    val_h = tuple([each.data for each in val_h])\n",
    "                    \n",
    "                    inputs, targets = x, y\n",
    "                    if cuda:\n",
    "                        inputs, targets = inputs.cuda(), targets.cuda()\n",
    "\n",
    "                    output, val_h = net.forward(inputs, val_h)\n",
    "                    val_loss = criterion(output, targets.view(n_seqs*n_steps))\n",
    "                    #print(f\"val_loss = {val_loss}\")\n",
    "                \n",
    "                    val_losses.append(val_loss.item())\n",
    "                \n",
    "                print(\"Epoch: {}/{}...\".format(e+1, epochs),\n",
    "                      \"Step: {}...\".format(counter),\n",
    "                      \"Loss: {:.4f}...\".format(loss.item()),\n",
    "                      \"Val Loss: {:.4f}\".format(np.mean(val_losses)))"
   ]
  },
  {
   "cell_type": "markdown",
   "metadata": {},
   "source": [
    "## Time to train\n",
    "\n",
    "Now we can actually train the network. First we'll create the network itself, with some given hyperparameters. Then, define the mini-batches sizes (number of sequences and number of steps), and start the training. With the train function, we can set the number of epochs, the learning rate, and other parameters. Also, we can run the training on a GPU by setting `cuda=True`."
   ]
  },
  {
   "cell_type": "code",
   "execution_count": 16,
   "metadata": {},
   "outputs": [],
   "source": [
    "if 'net' in locals():\n",
    "    del net"
   ]
  },
  {
   "cell_type": "code",
   "execution_count": 17,
   "metadata": {},
   "outputs": [
    {
     "name": "stdout",
     "output_type": "stream",
     "text": [
      "CharRNN(\n",
      "  (lstm): LSTM(83, 512, num_layers=2, batch_first=True, dropout=0.5)\n",
      "  (dropout): Dropout(p=0.5, inplace=False)\n",
      "  (fc): Linear(in_features=512, out_features=83, bias=True)\n",
      ")\n"
     ]
    }
   ],
   "source": [
    "# define and print the net\n",
    "net = CharRNN(chars, n_hidden=512, n_layers=2)\n",
    "print(net)"
   ]
  },
  {
   "cell_type": "code",
   "execution_count": 18,
   "metadata": {},
   "outputs": [
    {
     "name": "stdout",
     "output_type": "stream",
     "text": [
      "3366483\n"
     ]
    }
   ],
   "source": [
    "pytorch_total_params = sum(p.numel() for p in net.parameters() if p.requires_grad)\n",
    "print(pytorch_total_params)"
   ]
  },
  {
   "cell_type": "code",
   "execution_count": 19,
   "metadata": {},
   "outputs": [
    {
     "name": "stdout",
     "output_type": "stream",
     "text": [
      "169984\n",
      "lstm.weight_ih_l0 tensor([[-2.7437e-02, -1.6473e-02, -2.6797e-02,  ..., -2.6910e-03,\n",
      "          9.3239e-05, -1.4082e-02],\n",
      "        [ 5.4269e-04, -3.2825e-02,  2.6410e-02,  ..., -1.3516e-02,\n",
      "          2.4467e-02,  1.7027e-02],\n",
      "        [ 4.0254e-02,  4.1665e-02, -4.3483e-02,  ...,  1.9441e-02,\n",
      "         -4.3245e-04,  3.8565e-02],\n",
      "        ...,\n",
      "        [-1.6841e-02, -1.0003e-02, -3.0925e-02,  ..., -1.3006e-02,\n",
      "          1.9501e-02, -2.5384e-02],\n",
      "        [-1.2871e-03,  1.9031e-02, -3.6453e-02,  ..., -1.3656e-03,\n",
      "          2.1958e-02,  3.2902e-02],\n",
      "        [ 4.3869e-02,  1.7174e-02, -2.0431e-02,  ...,  3.8916e-02,\n",
      "          3.4235e-02,  8.0196e-03]]) torch.Size([2048, 83])\n",
      "1048576\n",
      "lstm.weight_hh_l0 tensor([[ 0.0309, -0.0299,  0.0430,  ...,  0.0240, -0.0100,  0.0388],\n",
      "        [ 0.0016, -0.0266,  0.0272,  ...,  0.0348,  0.0157, -0.0073],\n",
      "        [-0.0382, -0.0369, -0.0109,  ..., -0.0396,  0.0286, -0.0202],\n",
      "        ...,\n",
      "        [-0.0248, -0.0150, -0.0379,  ...,  0.0071,  0.0154,  0.0236],\n",
      "        [-0.0319, -0.0229, -0.0014,  ..., -0.0260, -0.0309,  0.0054],\n",
      "        [ 0.0194,  0.0144,  0.0257,  ...,  0.0321, -0.0289,  0.0381]]) torch.Size([2048, 512])\n",
      "2048\n",
      "lstm.bias_ih_l0 tensor([-0.0203,  0.0416, -0.0354,  ..., -0.0081,  0.0017, -0.0421]) torch.Size([2048])\n",
      "2048\n",
      "lstm.bias_hh_l0 tensor([-1.6660e-02, -2.8456e-02,  4.4049e-05,  ...,  2.2409e-03,\n",
      "         4.1124e-02,  1.2847e-02]) torch.Size([2048])\n",
      "1048576\n",
      "lstm.weight_ih_l1 tensor([[ 0.0377, -0.0055,  0.0028,  ..., -0.0271, -0.0040,  0.0290],\n",
      "        [ 0.0177, -0.0308,  0.0209,  ...,  0.0394, -0.0304,  0.0309],\n",
      "        [-0.0402, -0.0370, -0.0154,  ..., -0.0020,  0.0260,  0.0327],\n",
      "        ...,\n",
      "        [ 0.0301,  0.0184, -0.0424,  ...,  0.0074, -0.0171,  0.0302],\n",
      "        [ 0.0086,  0.0308,  0.0188,  ...,  0.0001, -0.0400,  0.0054],\n",
      "        [-0.0229, -0.0001,  0.0054,  ...,  0.0218,  0.0281,  0.0401]]) torch.Size([2048, 512])\n",
      "1048576\n",
      "lstm.weight_hh_l1 tensor([[ 0.0076, -0.0432,  0.0250,  ..., -0.0077, -0.0241,  0.0011],\n",
      "        [ 0.0231,  0.0115,  0.0337,  ...,  0.0311,  0.0248, -0.0068],\n",
      "        [-0.0283,  0.0440, -0.0045,  ..., -0.0068,  0.0087,  0.0088],\n",
      "        ...,\n",
      "        [ 0.0403, -0.0193,  0.0428,  ...,  0.0234,  0.0168,  0.0181],\n",
      "        [ 0.0231,  0.0372,  0.0391,  ...,  0.0320,  0.0014,  0.0177],\n",
      "        [ 0.0029, -0.0189,  0.0038,  ..., -0.0277, -0.0042,  0.0009]]) torch.Size([2048, 512])\n",
      "2048\n",
      "lstm.bias_ih_l1 tensor([-0.0029, -0.0389, -0.0226,  ..., -0.0064, -0.0427,  0.0253]) torch.Size([2048])\n",
      "2048\n",
      "lstm.bias_hh_l1 tensor([-0.0179,  0.0088,  0.0410,  ..., -0.0386,  0.0274, -0.0167]) torch.Size([2048])\n",
      "42496\n",
      "fc.weight tensor([[-0.3093,  0.9396, -0.7154,  ..., -0.5814,  0.9909,  0.4490],\n",
      "        [ 0.6546, -0.9472, -0.2061,  ..., -0.9442, -0.1011,  0.6747],\n",
      "        [ 0.8520,  0.4651, -0.7284,  ..., -0.5111, -0.9673,  0.6168],\n",
      "        ...,\n",
      "        [-0.1744,  0.5500,  0.3938,  ...,  0.4410, -0.8898,  0.8046],\n",
      "        [-0.5917, -0.5842, -0.4789,  ...,  0.6151,  0.4640, -0.9280],\n",
      "        [ 0.5866, -0.0344, -0.5059,  ...,  0.8619,  0.2660, -0.4457]]) torch.Size([83, 512])\n",
      "83\n",
      "fc.bias tensor([0., 0., 0., 0., 0., 0., 0., 0., 0., 0., 0., 0., 0., 0., 0., 0., 0., 0., 0., 0., 0., 0., 0., 0.,\n",
      "        0., 0., 0., 0., 0., 0., 0., 0., 0., 0., 0., 0., 0., 0., 0., 0., 0., 0., 0., 0., 0., 0., 0., 0.,\n",
      "        0., 0., 0., 0., 0., 0., 0., 0., 0., 0., 0., 0., 0., 0., 0., 0., 0., 0., 0., 0., 0., 0., 0., 0.,\n",
      "        0., 0., 0., 0., 0., 0., 0., 0., 0., 0., 0.]) torch.Size([83])\n"
     ]
    }
   ],
   "source": [
    "for name, param in net.named_parameters():\n",
    "    print(param.numel())\n",
    "    if param.requires_grad:\n",
    "        print(name, param.data, np.shape(param.data))"
   ]
  },
  {
   "cell_type": "code",
   "execution_count": 20,
   "metadata": {
    "scrolled": true
   },
   "outputs": [
    {
     "name": "stdout",
     "output_type": "stream",
     "text": [
      "Epoch: 1/1... Step: 10... Loss: 3.3403... Val Loss: 3.3097\n",
      "Epoch: 1/1... Step: 20... Loss: 3.1904... Val Loss: 3.2104\n",
      "Epoch: 1/1... Step: 30... Loss: 3.1126... Val Loss: 3.0985\n",
      "Epoch: 1/1... Step: 40... Loss: 2.9368... Val Loss: 2.9359\n",
      "Epoch: 1/1... Step: 50... Loss: 2.7932... Val Loss: 2.7506\n",
      "Epoch: 1/1... Step: 60... Loss: 2.6169... Val Loss: 2.6390\n",
      "Epoch: 1/1... Step: 70... Loss: 2.5401... Val Loss: 2.5637\n",
      "Epoch: 1/1... Step: 80... Loss: 2.4815... Val Loss: 2.5044\n",
      "Epoch: 1/1... Step: 90... Loss: 2.4524... Val Loss: 2.4604\n",
      "Epoch: 1/1... Step: 100... Loss: 2.3999... Val Loss: 2.4227\n",
      "Epoch: 1/1... Step: 110... Loss: 2.3411... Val Loss: 2.3886\n",
      "Epoch: 1/1... Step: 120... Loss: 2.2796... Val Loss: 2.3593\n",
      "Epoch: 1/1... Step: 130... Loss: 2.3085... Val Loss: 2.3357\n"
     ]
    }
   ],
   "source": [
    "n_seqs, n_steps = 128, 100\n",
    "\n",
    "# you may change cuda to True if you plan on using a GPU!\n",
    "# also, if you do, please INCREASE the epochs to 25\n",
    "\n",
    "# Open the training log file.\n",
    "log_file = 'training_log.txt'\n",
    "f = open(log_file, 'w')\n",
    "\n",
    "TOKEN_URL = \"http://metadata.google.internal/computeMetadata/v1/instance/attributes/keep_alive_token\"\n",
    "TOKEN_HEADERS = {\"Metadata-Flavor\":\"Google\"}\n",
    "\n",
    "#response = requests.request(\"GET\", \n",
    "#                            \"http://metadata.google.internal/computeMetadata/v1/instance/attributes/keep_alive_token\", \n",
    "#                            headers={\"Metadata-Flavor\":\"Google\"})\n",
    "response = requests.request(\"GET\", TOKEN_URL, headers=TOKEN_HEADERS)\n",
    "\n",
    "# TRAIN\n",
    "train(net, encoded, epochs=1, n_seqs=n_seqs, n_steps=n_steps, lr=0.001, cuda=True, print_every=10, response=response)\n",
    "\n",
    "# Close the training log file.\n",
    "f.close()\n"
   ]
  },
  {
   "cell_type": "markdown",
   "metadata": {},
   "source": [
    "## Getting the best model\n",
    "\n",
    "To set your hyperparameters to get the best performance, you'll want to watch the training and validation losses. If your training loss is much lower than the validation loss, you're overfitting. Increase regularization (more dropout) or use a smaller network. If the training and validation losses are close, you're underfitting so you can increase the size of the network."
   ]
  },
  {
   "cell_type": "markdown",
   "metadata": {},
   "source": [
    "## Hyperparameters\n",
    "\n",
    "Here are the hyperparameters for the network.\n",
    "\n",
    "In defining the model:\n",
    "* `n_hidden` - The number of units in the hidden layers.\n",
    "* `n_layers` - Number of hidden LSTM layers to use.\n",
    "\n",
    "We assume that dropout probability and learning rate will be kept at the default, in this example.\n",
    "\n",
    "And in training:\n",
    "* `n_seqs` - Number of sequences running through the network in one pass.\n",
    "* `n_steps` - Number of characters in the sequence the network is trained on. Larger is better typically, the network will learn more long range dependencies. But it takes longer to train. 100 is typically a good number here.\n",
    "* `lr` - Learning rate for training\n",
    "\n",
    "Here's some good advice from Andrej Karpathy on training the network. I'm going to copy it in here for your benefit, but also link to [where it originally came from](https://github.com/karpathy/char-rnn#tips-and-tricks).\n",
    "\n",
    "> ## Tips and Tricks\n",
    "\n",
    ">### Monitoring Validation Loss vs. Training Loss\n",
    ">If you're somewhat new to Machine Learning or Neural Networks it can take a bit of expertise to get good models. The most important quantity to keep track of is the difference between your training loss (printed during training) and the validation loss (printed once in a while when the RNN is run on the validation data (by default every 1000 iterations)). In particular:\n",
    "\n",
    "> - If your training loss is much lower than validation loss then this means the network might be **overfitting**. Solutions to this are to decrease your network size, or to increase dropout. For example you could try dropout of 0.5 and so on.\n",
    "> - If your training/validation loss are about equal then your model is **underfitting**. Increase the size of your model (either number of layers or the raw number of neurons per layer)\n",
    "\n",
    "> ### Approximate number of parameters\n",
    "\n",
    "> The two most important parameters that control the model are `n_hidden` and `n_layers`. I would advise that you always use `n_layers` of either 2/3. The `n_hidden` can be adjusted based on how much data you have. The two important quantities to keep track of here are:\n",
    "\n",
    "> - The number of parameters in your model. This is printed when you start training.\n",
    "> - The size of your dataset. 1MB file is approximately 1 million characters.\n",
    "\n",
    ">These two should be about the same order of magnitude. It's a little tricky to tell. Here are some examples:\n",
    "\n",
    "> - I have a 100MB dataset and I'm using the default parameter settings (which currently print 150K parameters). My data size is significantly larger (100 mil >> 0.15 mil), so I expect to heavily underfit. I am thinking I can comfortably afford to make `n_hidden` larger.\n",
    "> - I have a 10MB dataset and running a 10 million parameter model. I'm slightly nervous and I'm carefully monitoring my validation loss. If it's larger than my training loss then I may want to try to increase dropout a bit and see if that helps the validation loss.\n",
    "\n",
    "> ### Best models strategy\n",
    "\n",
    ">The winning strategy to obtaining very good models (if you have the compute time) is to always err on making the network larger (as large as you're willing to wait for it to compute) and then try different dropout values (between 0,1). Whatever model has the best validation performance (the loss, written in the checkpoint filename, low is good) is the one you should use in the end.\n",
    "\n",
    ">It is very common in deep learning to run many different models with many different hyperparameter settings, and in the end take whatever checkpoint gave the best validation performance.\n",
    "\n",
    ">By the way, the size of your training and validation splits are also parameters. Make sure you have a decent amount of data in your validation set or otherwise the validation performance will be noisy and not very informative."
   ]
  },
  {
   "cell_type": "markdown",
   "metadata": {},
   "source": [
    "After training, we'll save the model so we can load it again later if we need too. Here I'm saving the parameters needed to create the same architecture, the hidden layer hyperparameters and the text characters."
   ]
  },
  {
   "cell_type": "code",
   "execution_count": 21,
   "metadata": {},
   "outputs": [],
   "source": [
    "# change the name, for saving multiple files\n",
    "model_name = 'rnn_1_epoch.net'\n",
    "\n",
    "checkpoint = {'n_hidden': net.n_hidden,\n",
    "              'n_layers': net.n_layers,\n",
    "              'state_dict': net.state_dict(),\n",
    "              'tokens': net.chars}\n",
    "\n",
    "with open(model_name, 'wb') as f:\n",
    "    torch.save(checkpoint, f)"
   ]
  },
  {
   "cell_type": "markdown",
   "metadata": {},
   "source": [
    "## Sampling\n",
    "\n",
    "Now that the model is trained, we'll want to sample from it. To sample, we pass in a character and have the network predict the next character. Then we take that character, pass it back in, and get another predicted character. Just keep doing this and you'll generate a bunch of text!\n",
    "\n",
    "### Top K sampling\n",
    "\n",
    "Our predictions come from a categorcial probability distribution over all the possible characters. We can make the sample text and make it more reasonable to handle (with less variables) by only considering some $K$ most probable characters. This will prevent the network from giving us completely absurd characters while allowing it to introduce some noise and randomness into the sampled text.\n",
    "\n",
    "Typically you'll want to prime the network so you can build up a hidden state. Otherwise the network will start out generating characters at random. In general the first bunch of characters will be a little rough since it hasn't built up a long history of characters to predict from."
   ]
  },
  {
   "cell_type": "code",
   "execution_count": 22,
   "metadata": {},
   "outputs": [],
   "source": [
    "def sample(net, size, prime='The', top_k=None, cuda=False):\n",
    "        \n",
    "    if cuda:\n",
    "        net.cuda()\n",
    "    else:\n",
    "        net.cpu()\n",
    "\n",
    "    net.eval()\n",
    "    \n",
    "    # First off, run through the prime characters\n",
    "    chars = [ch for ch in prime]\n",
    "    h = net.init_hidden(1)\n",
    "    for ch in prime:\n",
    "        char, h = net.predict(ch, h, cuda=cuda, top_k=top_k)\n",
    "\n",
    "    chars.append(char)\n",
    "    \n",
    "    # Now pass in the previous character and get a new one\n",
    "    for ii in range(size):\n",
    "        char, h = net.predict(chars[-1], h, cuda=cuda, top_k=top_k)\n",
    "        chars.append(char)\n",
    "\n",
    "    return ''.join(chars)"
   ]
  },
  {
   "cell_type": "code",
   "execution_count": 24,
   "metadata": {},
   "outputs": [
    {
     "name": "stdout",
     "output_type": "stream",
     "text": [
      "Anna dorthe had sad it antton toully the hard sioll an withe serend an has\n",
      "wof ther the\n",
      "sand wome sofrone sarided in to coule tore hat of the sanderid shid the shit he\n",
      "\n",
      "andring tar the hasedengtit int this allyouthe\n",
      "\n",
      "herd therer of to thessing and that and tere sione him salint wat thing anes in thith and salithe hasd inthere tad\n",
      "anting ther asd of the he watha dind hersed to he patt im the wallye ther war hat aly whthen woth\n",
      "she prendig at and he hass of at the her at an she ald,\n",
      "and tho hard her wathe har aled ther to had the seed of that ant and ta the wis that on the hiss\n",
      "of the paster ad\n",
      "tho she she an the said ofel ther at hered the\n",
      "pissan with him sof thand thowers and arit on ther wat the seed aly to hated an ald the sane and and\n",
      "thet if\n",
      "tear the sadersed\n",
      "inther atdes of of the wore the sad dangthe thou sorede tioned anderstend and the pastithing tor the war the had sand has dere and oner has whas dongere tat and whin ad thoug he win th was anthe shit hered of in the shin he ardiding at ang to shit hing. The winte singters ware he asdero souted thar adder tore ang to hime and his had torsing, whe thoun he shand to hin shered hinsend athers, the see ang of her\n",
      "said on sor shous tong ther sout the toon and an he prout oud thate, and wish, and and ont ther somed to conder the the herstherss ind and of to hit at the tis hom her and ad taly and ofre hes tithe siom thane himendid stel wan hishided, and and ton ho she souned of her what dand the tiong the wand so thit thoughe fer has and tiond thand said of he the hored at are sat on there weres on the sond thas wis thing wouth him hed an and arinth wasser, and her sin what has tong ate ther to her anded and allad to comlingitt ther witchese sat tore tor ined to the were the sofith wate wothe wathe his adid and and the sand ane wishe fead ond anderthing out at tou the saind on ated, she the wand the wise his has at tha doned..\n",
      "\n",
      "\"The, suthare thon ad\n",
      "ther the had singer to tome at in therese thing. The wathe hit anderade\n"
     ]
    }
   ],
   "source": [
    "print(sample(net, 2000, prime='Anna', top_k=5, cuda=True))"
   ]
  },
  {
   "cell_type": "markdown",
   "metadata": {},
   "source": [
    "## Loading a checkpoint"
   ]
  },
  {
   "cell_type": "code",
   "execution_count": 25,
   "metadata": {},
   "outputs": [
    {
     "data": {
      "text/plain": [
       "<All keys matched successfully>"
      ]
     },
     "execution_count": 25,
     "metadata": {},
     "output_type": "execute_result"
    }
   ],
   "source": [
    "# Here we have loaded in a model that trained over 1 epoch `rnn_1_epoch.net`\n",
    "with open('rnn_1_epoch.net', 'rb') as f:\n",
    "    checkpoint = torch.load(f)\n",
    "    \n",
    "loaded = CharRNN(checkpoint['tokens'], n_hidden=checkpoint['n_hidden'], n_layers=checkpoint['n_layers'])\n",
    "loaded.load_state_dict(checkpoint['state_dict'])"
   ]
  },
  {
   "cell_type": "code",
   "execution_count": 26,
   "metadata": {},
   "outputs": [
    {
     "name": "stdout",
     "output_type": "stream",
     "text": [
      "And Levin said and, and what hing oud that\n",
      "as and\n",
      "hand ald him, and atthe hom atd her ad to se warte and and ang that he had dren anding the was the the hasse the horedered ho tad one andidint thim whe tand tonere for himedend to hat oud his the pistain tor hiss anding of ties and then ad therended hat tor aly, and how and an an ate sealit the thit he sellong, to the\n",
      "to the\n",
      "she was ald sat the wate and that it here tar hims..\n",
      "\n",
      "\n",
      "\"I at te alle,\n",
      "shad donderes ofe ce sat tall ou houle fer at to the wothe wing he and\n",
      "of of ar that and and hed has\n",
      "ate had hersser th wased the has dand on the the sat to thing of\n",
      "her om tout\n",
      "ous to sead if hed sout othand wall ad are har to sous the tone wand, and and\n",
      "at te than atily all at or atered... Sten hin wasten toresting ther, and thit and, and\n",
      "ther athard ham wat he as as wis thor and toom ho hing ound too kong woter, thet his sout ath wor tha beatind was onte sous had destonge tion asess foule he pastise to thowerse with so hing.\n",
      "\n",
      "\n",
      "\"Couple the wes that he the said\n",
      "at he hand, hing ad overy teelliged thet her he toress the wist it shis tare,\n",
      "sher to man ar ald at and on the sain wase ther, andered tom he soute fincinge he somen ofrithe has and his ton wim ther\n",
      "the sored ing thesed to mured to tanting tha sond of of the thes of ard the tound theren the the wat he the wer thad seand he he som and the him sean with har\n",
      "sane whathed tor ifere toon werl thad had andad the she sousted ta te ting at ines the pereaded to to tho hat tare the watle his has ad his he was deald tha besten were and on the hersed the has the sinded the por tare the tound of of\n",
      "ther had songing. \n",
      "\"\n",
      "the wous der asdering ofer thad ded ond thang, and hat on tho cis at hous the wiment the thoud datt in asit ont atere an toong thithe had sind ond weat her was tout his watt to the wat oned on wous hom hins wothe sor ting the to merad in the\n",
      "thered and tor that ond ther andered he\n",
      "sime thoner the tand\n",
      "siof the wort and that ant tho gane and and wate thoung ha sad tith saled to ste t\n"
     ]
    }
   ],
   "source": [
    "# Change cuda to True if you are using GPU!\n",
    "print(sample(loaded, 2000, cuda=True, top_k=5, prime=\"And Levin said\"))"
   ]
  }
 ],
 "metadata": {
  "kernelspec": {
   "display_name": "Python 3 (ipykernel)",
   "language": "python",
   "name": "python3"
  },
  "language_info": {
   "codemirror_mode": {
    "name": "ipython",
    "version": 3
   },
   "file_extension": ".py",
   "mimetype": "text/x-python",
   "name": "python",
   "nbconvert_exporter": "python",
   "pygments_lexer": "ipython3",
   "version": "3.10.11"
  }
 },
 "nbformat": 4,
 "nbformat_minor": 2
}
